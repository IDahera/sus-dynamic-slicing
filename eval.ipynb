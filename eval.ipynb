{
 "cells": [
  {
   "cell_type": "code",
   "execution_count": 11,
   "metadata": {},
   "outputs": [],
   "source": [
    "import tensorflow as tf\n",
    "import re\n",
    "import statistics\n",
    "from statistics import mean\n",
    "from keras.datasets import mnist, fashion_mnist"
   ]
  },
  {
   "cell_type": "code",
   "execution_count": 3,
   "metadata": {},
   "outputs": [
    {
     "name": "stdout",
     "output_type": "stream",
     "text": [
      "[MNIST] Length of Training Dataset: 60000\n",
      "[MNIST] Length of Testing Dataset: 10000\n",
      "[MNIST] Length of Training Dataset: 60000\n",
      "[MNIST] Length of Testing Dataset: 10000\n"
     ]
    }
   ],
   "source": [
    "(mnist_x_train, mnist_y_train), (mnist_x_test, mnist_y_test) = mnist.load_data()\n",
    "\n",
    "print(f\"[MNIST] Length of Training Dataset: {len(mnist_x_train)}\")\n",
    "print(f\"[MNIST] Length of Testing Dataset: {len(mnist_x_test)}\")\n",
    "\n",
    "(f_mnist_x_train, f_mnist_y_train), (f_mnist_x_test, f_mnist_y_test) = fashion_mnist.load_data()\n",
    "\n",
    "print(f\"[MNIST] Length of Training Dataset: {len(f_mnist_x_train)}\")\n",
    "print(f\"[MNIST] Length of Testing Dataset: {len(f_mnist_x_test)}\")"
   ]
  },
  {
   "cell_type": "code",
   "execution_count": 15,
   "metadata": {},
   "outputs": [],
   "source": [
    "def print_mean(file_path):\n",
    "    prefix_testing = \"(Test) (2E) vs (1E + FL + 1E) accuracy:\"\n",
    "    prefix_training = \"(Train) (2E) vs (1E + FL + 1E) accuracy:\"\n",
    "\n",
    "    regex_pattern = r\"(\\d+\\.\\d+) vs (\\d+\\.\\d+)\"\n",
    "\n",
    "    # Testing\n",
    "    testing_accs_before = []\n",
    "    testing_accs_after = []\n",
    "    with open(file_path, 'r') as file:\n",
    "        # Read lines and filter those starting with the specific string\n",
    "        lines_starting_with_prefix = [line.strip() for line in file.readlines() if line.startswith(prefix_testing)]\n",
    "        for line in lines_starting_with_prefix:\n",
    "            testing_accs_before.append(float(re.findall(regex_pattern, line)[0][0]))\n",
    "            testing_accs_after.append(float(re.findall(regex_pattern, line)[0][1]))\n",
    "\n",
    "    test_before_mean = round(mean(testing_accs_before), 2) \n",
    "    test_after_mean = round(mean(testing_accs_after), 2)\n",
    "    test_mean_diff = round(test_after_mean - test_before_mean, 2)\n",
    "    test_after_min = round(min(testing_accs_after), 2)\n",
    "    test_after_max = round(max(testing_accs_after), 2)\n",
    "    test_diff_text = f\"+{test_mean_diff}pp.\" if (test_mean_diff > 0) else f\"{test_mean_diff}pp.\" \n",
    "    print(f\"\\t[Testing - Mean] Before: {test_before_mean}\")\n",
    "    print(f\"\\t[Testing - Mean] After: {test_after_mean} ({test_diff_text})\")\n",
    "    print(\"\\t--------------------------------------------\")\n",
    "    print(f\"\\t[Testing - Min] After: {test_after_min}\")\n",
    "    print(f\"\\t[Testing - Max] After: {test_after_max}\")\n",
    "    print(f\"\\t[Testing - Variance] After: {statistics.variance(testing_accs_after)}\")\n",
    "    print(\"\\t--------------------------------------------\")\n",
    "\n",
    "    # Training\n",
    "    training_accs_before = []\n",
    "    training_accs_after = []\n",
    "    with open(file_path, 'r') as file:\n",
    "        # Read lines and filter those starting with the specific string\n",
    "        lines_starting_with_prefix = [line.strip() for line in file.readlines() if line.startswith(prefix_training)]\n",
    "        for line in lines_starting_with_prefix:\n",
    "            training_accs_before.append(float(re.findall(regex_pattern, line)[0][0]))\n",
    "            training_accs_after.append(float(re.findall(regex_pattern, line)[0][1]))\n",
    "\n",
    "    train_before = round(mean(training_accs_before), 2) \n",
    "    train_after = round(mean(training_accs_after), 2)\n",
    "    train_diff = round(train_after - train_before, 2)\n",
    "    train_after_min = round(min(training_accs_after), 2)\n",
    "    train_after_max = round(max(training_accs_after), 2)\n",
    "    train_diff_text = f\"+{train_diff}pp.\" if (train_diff > 0) else f\"{test_mean_diff}pp.\"\n",
    "    print(f\"\\t[Training - Mean] Before: {round(mean(training_accs_before), 2)}\")        \n",
    "    print(f\"\\t[Training - Mean] After: {round(mean(training_accs_after), 2)} ({train_diff_text})\") \n",
    "    print(\"\\t--------------------------------------------\")\n",
    "    print(f\"\\t[Training - Min] After: {train_after_min}\")\n",
    "    print(f\"\\t[Training - Max] After: {train_after_max}\")\n",
    "    print(f\"\\t[Training - Variance] After: {statistics.variance(training_accs_after)}\")\n",
    "    print(\"\\t--------------------------------------------\")\n",
    "    \n",
    "    \n",
    "all_files = [\"/1_pso_dense_mnist.txt\", \n",
    "             \"/2_pso_conv_mnist.txt\", \n",
    "             \"/3_pso_dense_fashion.txt\", \n",
    "             \"/4_pso_conv_fashion.txt\"]"
   ]
  },
  {
   "cell_type": "code",
   "execution_count": 17,
   "metadata": {},
   "outputs": [
    {
     "name": "stdout",
     "output_type": "stream",
     "text": [
      "Dense MNIST:\n",
      "\t[Testing - Mean] Before: 95.22\n",
      "\t[Testing - Mean] After: 95.9 (+0.68pp.)\n",
      "\t--------------------------------------------\n",
      "\t[Testing - Min] After: 95.64\n",
      "\t[Testing - Max] After: 96.33\n",
      "\t[Testing - Variance] After: 0.04355999999999957\n",
      "\t--------------------------------------------\n",
      "\t[Training - Mean] Before: 96.17\n",
      "\t[Training - Mean] After: 96.91 (+0.74pp.)\n",
      "\t--------------------------------------------\n",
      "\t[Training - Min] After: 96.65\n",
      "\t[Training - Max] After: 97.21\n",
      "\t[Training - Variance] After: 0.03194432098765322\n",
      "\t--------------------------------------------\n",
      "\n",
      "Conv MNIST:\n",
      "\t[Testing - Mean] Before: 97.82\n",
      "\t[Testing - Mean] After: 97.8 (-0.02pp.)\n",
      "\t--------------------------------------------\n",
      "\t[Testing - Min] After: 97.65\n",
      "\t[Testing - Max] After: 97.91\n",
      "\t[Testing - Variance] After: 0.009987777777777396\n",
      "\t--------------------------------------------\n",
      "\t[Training - Mean] Before: 98.22\n",
      "\t[Training - Mean] After: 98.25 (+0.03pp.)\n",
      "\t--------------------------------------------\n",
      "\t[Training - Min] After: 98.17\n",
      "\t[Training - Max] After: 98.36\n",
      "\t[Training - Variance] After: 0.005222839506173303\n",
      "\t--------------------------------------------\n"
     ]
    }
   ],
   "source": [
    "print(\"Dense MNIST:\")\n",
    "print_mean('results/percentage' + all_files[0])\n",
    "print(\"\\nConv MNIST:\")\n",
    "print_mean('results/percentage' + all_files[1])"
   ]
  },
  {
   "cell_type": "code",
   "execution_count": 16,
   "metadata": {},
   "outputs": [
    {
     "name": "stdout",
     "output_type": "stream",
     "text": [
      "\n",
      "Dense F_MNIST:\n",
      "\t[Testing - Mean] Before: 69.31\n",
      "\t[Testing - Mean] After: 85.04 (+15.73pp.)\n",
      "\t--------------------------------------------\n",
      "\t[Testing - Min] After: 84.2\n",
      "\t[Testing - Max] After: 85.9\n",
      "\t[Testing - Variance] After: 0.20721000000000134\n",
      "\t--------------------------------------------\n",
      "\t[Training - Mean] Before: 70.62\n",
      "\t[Training - Mean] After: 86.99 (+16.37pp.)\n",
      "\t--------------------------------------------\n",
      "\t[Training - Min] After: 86.42\n",
      "\t[Training - Max] After: 87.83\n",
      "\t[Training - Variance] After: 0.14990358024691283\n",
      "\t--------------------------------------------\n",
      "\n",
      "Conv F_MNIST:\n",
      "\t[Testing - Mean] Before: 88.28\n",
      "\t[Testing - Mean] After: 88.74 (+0.46pp.)\n",
      "\t--------------------------------------------\n",
      "\t[Testing - Min] After: 88.38\n",
      "\t[Testing - Max] After: 88.99\n",
      "\t[Testing - Variance] After: 0.040351111111110345\n",
      "\t--------------------------------------------\n",
      "\t[Training - Mean] Before: 90.03\n",
      "\t[Training - Mean] After: 90.51 (+0.48pp.)\n",
      "\t--------------------------------------------\n",
      "\t[Training - Min] After: 90.15\n",
      "\t[Training - Max] After: 90.75\n",
      "\t[Training - Variance] After: 0.03495682098765448\n",
      "\t--------------------------------------------\n"
     ]
    }
   ],
   "source": [
    "print(\"\\nDense F_MNIST:\")\n",
    "print_mean('results/percentage' + all_files[2])\n",
    "print(\"\\nConv F_MNIST:\")\n",
    "print_mean('results/percentage' + all_files[3])   "
   ]
  },
  {
   "cell_type": "markdown",
   "metadata": {},
   "source": []
  }
 ],
 "metadata": {
  "kernelspec": {
   "display_name": "py10",
   "language": "python",
   "name": "python3"
  },
  "language_info": {
   "codemirror_mode": {
    "name": "ipython",
    "version": 3
   },
   "file_extension": ".py",
   "mimetype": "text/x-python",
   "name": "python",
   "nbconvert_exporter": "python",
   "pygments_lexer": "ipython3",
   "version": "3.10.9"
  }
 },
 "nbformat": 4,
 "nbformat_minor": 2
}
